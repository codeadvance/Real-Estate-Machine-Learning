{
 "cells": [
  {
   "cell_type": "markdown",
   "id": "8bff721d",
   "metadata": {},
   "source": [
    "# Group Project: forecasting model:linear regression\n",
    "## Name: Cindy\n",
    "### Date: 04/01/2024"
   ]
  },
  {
   "cell_type": "code",
   "execution_count": 9,
   "id": "9af8e555",
   "metadata": {},
   "outputs": [],
   "source": [
    "# Variables in order:\n",
    "# CRIM     per capita crime rate by town\n",
    "# ZN       proportion of residential land zoned for lots over 25,000 sq.ft. #categorical \n",
    "# INDUS    proportion of non-retail business acres per town categorical\n",
    "# CHAS     Charles River dummy variable (= 1 if tract bounds river; 0 otherwise) #missing value- categorical\n",
    "# NOX      nitric oxides concentration (parts per 10 million)\n",
    "# RM       average number of rooms per dwelling\n",
    "# AGE      proportion of owner-occupied units built prior to 1940\n",
    "# DIS      weighted distances to five Boston employment centres\n",
    "# RAD      index of accessibility to radial highways\n",
    "# TAX      full-value property-tax rate per $10,000\n",
    "# PTRATIO  pupil-teacher ratio by town\n",
    "# B        1000(Bk - 0.63)^2 where Bk is the proportion of blacks by town\n",
    "# LSTAT    % lower status of the population\n",
    "# MEDV     Median value of owner-occupied homes in $1000's"
   ]
  },
  {
   "cell_type": "code",
   "execution_count": null,
   "id": "affc16f5",
   "metadata": {},
   "outputs": [],
   "source": [
    "#source website:\n",
    "#1: https://www.cs.toronto.edu/~delve/data/boston/bostonDetail.html\n",
    "#2: https://lib.stat.cmu.edu/datasets/boston"
   ]
  },
  {
   "cell_type": "code",
   "execution_count": 7,
   "id": "8b1d57f1",
   "metadata": {},
   "outputs": [
    {
     "name": "stdout",
     "output_type": "stream",
     "text": [
      "        CRIM     ZN   INDUS CHAS     NOX      RM    AGE     DIS RAD    TAX  \\\n",
      "0    0.00632  18.00   2.310    0  0.5380  6.5750  65.20  4.0900   1  296.0   \n",
      "1    0.02731   0.00   7.070    0  0.4690  6.4210  78.90  4.9671   2  242.0   \n",
      "2    0.02729   0.00   7.070    0  0.4690  7.1850  61.10  4.9671   2  242.0   \n",
      "3    0.03237   0.00   2.180    0  0.4580  6.9980  45.80  6.0622   3  222.0   \n",
      "4    0.06905   0.00   2.180    0  0.4580  7.1470  54.20  6.0622   3  222.0   \n",
      "..       ...    ...     ...  ...     ...     ...    ...     ...  ..    ...   \n",
      "501  0.06263   0.00  11.930    0  0.5730  6.5930  69.10  2.4786   1  273.0   \n",
      "502  0.04527   0.00  11.930    0  0.5730  6.1200  76.70  2.2875   1  273.0   \n",
      "503  0.06076   0.00  11.930    0  0.5730  6.9760  91.00  2.1675   1  273.0   \n",
      "504  0.10959   0.00  11.930    0  0.5730  6.7940  89.30  2.3889   1  273.0   \n",
      "505  0.04741   0.00  11.930    0  0.5730  6.0300  80.80  2.5050   1  273.0   \n",
      "\n",
      "    PTRATIO       B LSTAT   MEDV  \n",
      "0     15.30  396.90  4.98  24.00  \n",
      "1     17.80  396.90  9.14  21.60  \n",
      "2     17.80  392.83  4.03  34.70  \n",
      "3     18.70  394.63  2.94  33.40  \n",
      "4     18.70  396.90  5.33  36.20  \n",
      "..      ...     ...   ...    ...  \n",
      "501   21.00  391.99  9.67  22.40  \n",
      "502   21.00  396.90  9.08  20.60  \n",
      "503   21.00  396.90  5.64  23.90  \n",
      "504   21.00  393.45  6.48  22.00  \n",
      "505   21.00  396.90  7.88  11.90  \n",
      "\n",
      "[506 rows x 14 columns]\n"
     ]
    }
   ],
   "source": [
    "import pandas as pd\n",
    "import requests\n",
    "\n",
    "# Define the URL of the dataset\n",
    "data_url = \"http://lib.stat.cmu.edu/datasets/boston\"\n",
    "column_names = ['CRIM', 'ZN', 'INDUS', 'CHAS', 'NOX', 'RM', 'AGE', 'DIS', 'RAD', 'TAX', 'PTRATIO', 'B', 'LSTAT', 'MEDV']\n",
    "\n",
    "# Fetch the raw text content of the dataset\n",
    "response = requests.get(data_url) #read it as text\n",
    "data_lines = response.text.splitlines() #split the lines\n",
    "\n",
    "# Initialize empty list to store rows\n",
    "rows = []\n",
    "\n",
    "# Iterate through data lines in steps of 2\n",
    "for i in range(22, len(data_lines), 2):\n",
    "    # Split line by whitespace\n",
    "    line_values1 = data_lines[i].split() #split the 1st row for first 11 columns\n",
    "    line_values2 = data_lines[i+1].split() #split the 2nd row for 12,13,14th columns\n",
    "    \n",
    "    # Combine two lines into one row\n",
    "    combined_values = line_values1 + line_values2 #merge the whole 14 columns together (1st and 2nd rows) together\n",
    "\n",
    "    # Append the combined values as a new row\n",
    "    rows.append(combined_values) #added the new combined columns as a new added line in the last line\n",
    "\n",
    "# Create DataFrame\n",
    "raw_df = pd.DataFrame(rows, columns=column_names)\n",
    "\n",
    "# Display the loaded DataFrame\n",
    "print(raw_df)"
   ]
  },
  {
   "cell_type": "code",
   "execution_count": 17,
   "id": "196e71a3",
   "metadata": {
    "scrolled": true
   },
   "outputs": [
    {
     "name": "stdout",
     "output_type": "stream",
     "text": [
      "<class 'pandas.core.frame.DataFrame'>\n",
      "RangeIndex: 506 entries, 0 to 505\n",
      "Data columns (total 14 columns):\n",
      " #   Column   Non-Null Count  Dtype \n",
      "---  ------   --------------  ----- \n",
      " 0   CRIM     506 non-null    object\n",
      " 1   ZN       506 non-null    object\n",
      " 2   INDUS    506 non-null    object\n",
      " 3   CHAS     506 non-null    object\n",
      " 4   NOX      506 non-null    object\n",
      " 5   RM       506 non-null    object\n",
      " 6   AGE      506 non-null    object\n",
      " 7   DIS      506 non-null    object\n",
      " 8   RAD      506 non-null    object\n",
      " 9   TAX      506 non-null    object\n",
      " 10  PTRATIO  506 non-null    object\n",
      " 11  B        506 non-null    object\n",
      " 12  LSTAT    506 non-null    object\n",
      " 13  MEDV     506 non-null    object\n",
      "dtypes: object(14)\n",
      "memory usage: 55.5+ KB\n"
     ]
    }
   ],
   "source": [
    "raw_df.info()"
   ]
  },
  {
   "cell_type": "code",
   "execution_count": null,
   "id": "1a69abfa",
   "metadata": {},
   "outputs": [],
   "source": [
    "#Change the type from object to float "
   ]
  },
  {
   "cell_type": "code",
   "execution_count": null,
   "id": "6be34919",
   "metadata": {},
   "outputs": [],
   "source": [
    "#feature 1: crime"
   ]
  },
  {
   "cell_type": "code",
   "execution_count": 19,
   "id": "11158d0d",
   "metadata": {},
   "outputs": [],
   "source": [
    "raw_df['CRIM']= raw_df['CRIM'].astype(float)"
   ]
  },
  {
   "cell_type": "code",
   "execution_count": 20,
   "id": "c8622878",
   "metadata": {
    "scrolled": true
   },
   "outputs": [
    {
     "data": {
      "text/html": [
       "<div>\n",
       "<style scoped>\n",
       "    .dataframe tbody tr th:only-of-type {\n",
       "        vertical-align: middle;\n",
       "    }\n",
       "\n",
       "    .dataframe tbody tr th {\n",
       "        vertical-align: top;\n",
       "    }\n",
       "\n",
       "    .dataframe thead th {\n",
       "        text-align: right;\n",
       "    }\n",
       "</style>\n",
       "<table border=\"1\" class=\"dataframe\">\n",
       "  <thead>\n",
       "    <tr style=\"text-align: right;\">\n",
       "      <th></th>\n",
       "      <th>CRIM</th>\n",
       "    </tr>\n",
       "  </thead>\n",
       "  <tbody>\n",
       "    <tr>\n",
       "      <th>count</th>\n",
       "      <td>506.000000</td>\n",
       "    </tr>\n",
       "    <tr>\n",
       "      <th>mean</th>\n",
       "      <td>3.613524</td>\n",
       "    </tr>\n",
       "    <tr>\n",
       "      <th>std</th>\n",
       "      <td>8.601545</td>\n",
       "    </tr>\n",
       "    <tr>\n",
       "      <th>min</th>\n",
       "      <td>0.006320</td>\n",
       "    </tr>\n",
       "    <tr>\n",
       "      <th>25%</th>\n",
       "      <td>0.082045</td>\n",
       "    </tr>\n",
       "    <tr>\n",
       "      <th>50%</th>\n",
       "      <td>0.256510</td>\n",
       "    </tr>\n",
       "    <tr>\n",
       "      <th>75%</th>\n",
       "      <td>3.677083</td>\n",
       "    </tr>\n",
       "    <tr>\n",
       "      <th>max</th>\n",
       "      <td>88.976200</td>\n",
       "    </tr>\n",
       "  </tbody>\n",
       "</table>\n",
       "</div>"
      ],
      "text/plain": [
       "             CRIM\n",
       "count  506.000000\n",
       "mean     3.613524\n",
       "std      8.601545\n",
       "min      0.006320\n",
       "25%      0.082045\n",
       "50%      0.256510\n",
       "75%      3.677083\n",
       "max     88.976200"
      ]
     },
     "execution_count": 20,
     "metadata": {},
     "output_type": "execute_result"
    }
   ],
   "source": [
    "raw_df.describe()"
   ]
  },
  {
   "cell_type": "code",
   "execution_count": 23,
   "id": "ccfc017c",
   "metadata": {},
   "outputs": [
    {
     "data": {
      "image/png": "[encoded data removed]",
      "text/plain": [
       "<Figure size 640x480 with 1 Axes>"
      ]
     },
     "metadata": {},
     "output_type": "display_data"
    }
   ],
   "source": [
    "#distribution\n",
    "import matplotlib.pyplot as plt\n",
    "plt.hist(raw_df['CRIM'], bins=20, color='orange')\n",
    "plt.xlabel('Crime')\n",
    "plt.ylabel('Frequency')\n",
    "plt.title('Crime Distribution')\n",
    "plt.show()"
   ]
  },
  {
   "cell_type": "code",
   "execution_count": 24,
   "id": "9285b42e",
   "metadata": {
    "scrolled": true
   },
   "outputs": [],
   "source": [
    "#feature 2:Zone-  proportion of residential land zoned for lots over 25,000 sq.ft."
   ]
  },
  {
   "cell_type": "code",
   "execution_count": 26,
   "id": "53a1e34e",
   "metadata": {},
   "outputs": [],
   "source": [
    "raw_df['ZN']=raw_df['ZN'].astype('category')"
   ]
  },
  {
   "cell_type": "code",
   "execution_count": 28,
   "id": "be8ef105",
   "metadata": {},
   "outputs": [
    {
     "data": {
      "text/html": [
       "<div>\n",
       "<style scoped>\n",
       "    .dataframe tbody tr th:only-of-type {\n",
       "        vertical-align: middle;\n",
       "    }\n",
       "\n",
       "    .dataframe tbody tr th {\n",
       "        vertical-align: top;\n",
       "    }\n",
       "\n",
       "    .dataframe thead th {\n",
       "        text-align: right;\n",
       "    }\n",
       "</style>\n",
       "<table border=\"1\" class=\"dataframe\">\n",
       "  <thead>\n",
       "    <tr style=\"text-align: right;\">\n",
       "      <th></th>\n",
       "      <th>CRIM</th>\n",
       "    </tr>\n",
       "  </thead>\n",
       "  <tbody>\n",
       "    <tr>\n",
       "      <th>count</th>\n",
       "      <td>506.000000</td>\n",
       "    </tr>\n",
       "    <tr>\n",
       "      <th>mean</th>\n",
       "      <td>3.613524</td>\n",
       "    </tr>\n",
       "    <tr>\n",
       "      <th>std</th>\n",
       "      <td>8.601545</td>\n",
       "    </tr>\n",
       "    <tr>\n",
       "      <th>min</th>\n",
       "      <td>0.006320</td>\n",
       "    </tr>\n",
       "    <tr>\n",
       "      <th>25%</th>\n",
       "      <td>0.082045</td>\n",
       "    </tr>\n",
       "    <tr>\n",
       "      <th>50%</th>\n",
       "      <td>0.256510</td>\n",
       "    </tr>\n",
       "    <tr>\n",
       "      <th>75%</th>\n",
       "      <td>3.677083</td>\n",
       "    </tr>\n",
       "    <tr>\n",
       "      <th>max</th>\n",
       "      <td>88.976200</td>\n",
       "    </tr>\n",
       "  </tbody>\n",
       "</table>\n",
       "</div>"
      ],
      "text/plain": [
       "             CRIM\n",
       "count  506.000000\n",
       "mean     3.613524\n",
       "std      8.601545\n",
       "min      0.006320\n",
       "25%      0.082045\n",
       "50%      0.256510\n",
       "75%      3.677083\n",
       "max     88.976200"
      ]
     },
     "execution_count": 28,
     "metadata": {},
     "output_type": "execute_result"
    }
   ],
   "source": [
    "raw_df.describe()"
   ]
  },
  {
   "cell_type": "code",
   "execution_count": 27,
   "id": "c306a40d",
   "metadata": {},
   "outputs": [
    {
     "data": {
      "image/png": "[encoded data removed]",
      "text/plain": [
       "<Figure size 640x480 with 1 Axes>"
      ]
     },
     "metadata": {},
     "output_type": "display_data"
    }
   ],
   "source": [
    "import pandas as pd\n",
    "import matplotlib.pyplot as plt\n",
    "\n",
    "# Assuming you have a DataFrame `df` with a column named 'ZN' (replace with actual names)\n",
    "raw_df['ZN'].value_counts().plot(kind='bar')  # Plot value counts as a bar chart\n",
    "plt.xlabel('Zoning Category')\n",
    "plt.ylabel('Count')\n",
    "plt.title('Distribution of Zoning Categories')\n",
    "plt.show()"
   ]
  },
  {
   "cell_type": "code",
   "execution_count": null,
   "id": "54becbfb",
   "metadata": {},
   "outputs": [],
   "source": [
    "#feature 3: INDUS-proportion of non-retail business acres per town categorical\n"
   ]
  },
  {
   "cell_type": "code",
   "execution_count": 30,
   "id": "b44457c0",
   "metadata": {},
   "outputs": [],
   "source": [
    "raw_df['INDUS']=raw_df['INDUS'].astype('float')"
   ]
  },
  {
   "cell_type": "code",
   "execution_count": 31,
   "id": "2893dede",
   "metadata": {
    "scrolled": true
   },
   "outputs": [
    {
     "data": {
      "text/html": [
       "<div>\n",
       "<style scoped>\n",
       "    .dataframe tbody tr th:only-of-type {\n",
       "        vertical-align: middle;\n",
       "    }\n",
       "\n",
       "    .dataframe tbody tr th {\n",
       "        vertical-align: top;\n",
       "    }\n",
       "\n",
       "    .dataframe thead th {\n",
       "        text-align: right;\n",
       "    }\n",
       "</style>\n",
       "<table border=\"1\" class=\"dataframe\">\n",
       "  <thead>\n",
       "    <tr style=\"text-align: right;\">\n",
       "      <th></th>\n",
       "      <th>CRIM</th>\n",
       "      <th>INDUS</th>\n",
       "    </tr>\n",
       "  </thead>\n",
       "  <tbody>\n",
       "    <tr>\n",
       "      <th>count</th>\n",
       "      <td>506.000000</td>\n",
       "      <td>506.000000</td>\n",
       "    </tr>\n",
       "    <tr>\n",
       "      <th>mean</th>\n",
       "      <td>3.613524</td>\n",
       "      <td>11.136779</td>\n",
       "    </tr>\n",
       "    <tr>\n",
       "      <th>std</th>\n",
       "      <td>8.601545</td>\n",
       "      <td>6.860353</td>\n",
       "    </tr>\n",
       "    <tr>\n",
       "      <th>min</th>\n",
       "      <td>0.006320</td>\n",
       "      <td>0.460000</td>\n",
       "    </tr>\n",
       "    <tr>\n",
       "      <th>25%</th>\n",
       "      <td>0.082045</td>\n",
       "      <td>5.190000</td>\n",
       "    </tr>\n",
       "    <tr>\n",
       "      <th>50%</th>\n",
       "      <td>0.256510</td>\n",
       "      <td>9.690000</td>\n",
       "    </tr>\n",
       "    <tr>\n",
       "      <th>75%</th>\n",
       "      <td>3.677083</td>\n",
       "      <td>18.100000</td>\n",
       "    </tr>\n",
       "    <tr>\n",
       "      <th>max</th>\n",
       "      <td>88.976200</td>\n",
       "      <td>27.740000</td>\n",
       "    </tr>\n",
       "  </tbody>\n",
       "</table>\n",
       "</div>"
      ],
      "text/plain": [
       "             CRIM       INDUS\n",
       "count  506.000000  506.000000\n",
       "mean     3.613524   11.136779\n",
       "std      8.601545    6.860353\n",
       "min      0.006320    0.460000\n",
       "25%      0.082045    5.190000\n",
       "50%      0.256510    9.690000\n",
       "75%      3.677083   18.100000\n",
       "max     88.976200   27.740000"
      ]
     },
     "execution_count": 31,
     "metadata": {},
     "output_type": "execute_result"
    }
   ],
   "source": [
    "raw_df.describe()"
   ]
  },
  {
   "cell_type": "code",
   "execution_count": 35,
   "id": "6cc17bbb",
   "metadata": {},
   "outputs": [
    {
     "data": {
      "image/png": "[encoded data removed]",
      "text/plain": [
       "<Figure size 640x480 with 1 Axes>"
      ]
     },
     "metadata": {},
     "output_type": "display_data"
    }
   ],
   "source": [
    "plt.hist(raw_df['INDUS'], color='green')\n",
    "plt.xlabel('Proportion of Non-retail business acres')\n",
    "plt.ylabel('Frequency')\n",
    "plt.title('Distribution of Non-retail business land proportion')\n",
    "plt.show()"
   ]
  },
  {
   "cell_type": "code",
   "execution_count": null,
   "id": "275eefc6",
   "metadata": {},
   "outputs": [],
   "source": [
    "#feature 4: # CHAS-Charles River dummy variable (= 1 if tract bounds river; 0 otherwise) #missing value- categorical\n"
   ]
  },
  {
   "cell_type": "code",
   "execution_count": null,
   "id": "4e35786b",
   "metadata": {},
   "outputs": [],
   "source": [
    "#i can use linear regression as forecasting- as for my research lr is the most popular "
   ]
  },
  {
   "cell_type": "code",
   "execution_count": null,
   "id": "fbf8b2cd",
   "metadata": {},
   "outputs": [],
   "source": [
    "#forecasting real estate, real estate engineer, talk about notebook , interpretation in the notebook, forecasting notebook as an example"
   ]
  },
  {
   "cell_type": "code",
   "execution_count": null,
   "id": "26368ad4",
   "metadata": {},
   "outputs": [],
   "source": []
  },
  {
   "cell_type": "code",
   "execution_count": null,
   "id": "9268762c",
   "metadata": {},
   "outputs": [],
   "source": [
    "#asking for one model as forecasting - mention ARIMA model as my next step "
   ]
  },
  {
   "cell_type": "code",
   "execution_count": null,
   "id": "8e11a0f5",
   "metadata": {},
   "outputs": [],
   "source": [
    "#give one example of popular model-the best model they use, the matrix they model "
   ]
  }
 ],
 "metadata": {
  "kernelspec": {
   "display_name": "Python 3 (ipykernel)",
   "language": "python",
   "name": "python3"
  },
  "language_info": {
   "codemirror_mode": {
    "name": "ipython",
    "version": 3
   },
   "file_extension": ".py",
   "mimetype": "text/x-python",
   "name": "python",
   "nbconvert_exporter": "python",
   "pygments_lexer": "ipython3",
   "version": "3.11.5"
  }
 },
 "nbformat": 4,
 "nbformat_minor": 5
}
